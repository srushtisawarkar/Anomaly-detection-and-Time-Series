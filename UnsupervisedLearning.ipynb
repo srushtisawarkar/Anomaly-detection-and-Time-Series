{
  "nbformat": 4,
  "nbformat_minor": 0,
  "metadata": {
    "colab": {
      "provenance": []
    },
    "kernelspec": {
      "name": "python3",
      "display_name": "Python 3"
    },
    "language_info": {
      "name": "python"
    }
  },
  "cells": [
    {
      "cell_type": "markdown",
      "source": [
        "Question 1 : What is Dimensionality Reduction? Why is it important in machine\n",
        "learning?\n",
        ">>Answer:\n",
        "Dimensionality Reduction is the process of reducing the number of input features (variables) in a dataset while keeping most of the important information.\n",
        "\n",
        "Importance:\n",
        "\n",
        "Removes noise and redundancy from data.\n",
        "\n",
        "Reduces computation time and storage needs.\n",
        "\n",
        "Improves visualization of high-dimensional data.\n",
        "\n",
        "Prevents overfitting and enhances model generalization."
      ],
      "metadata": {
        "id": "IZRACLJAtOrp"
      }
    },
    {
      "cell_type": "markdown",
      "source": [
        "Question 2: Name and briefly describe three common dimensionality reduction\n",
        "techniques..\n",
        ">>Answer:\n",
        "\n",
        "Principal Component Analysis (PCA):\n",
        "Converts correlated features into a smaller number of uncorrelated variables called principal components.\n",
        "\n",
        "Linear Discriminant Analysis (LDA):\n",
        "A supervised technique that reduces dimensions while maximizing class separability.\n",
        "\n",
        "t-SNE (t-Distributed Stochastic Neighbor Embedding):\n",
        "A nonlinear technique that visualizes high-dimensional data in 2D or 3D space, preserving local structure."
      ],
      "metadata": {
        "id": "MRxsNakGtTY1"
      }
    },
    {
      "cell_type": "markdown",
      "source": [
        "Question 3: What is clustering in unsupervised learning? Mention three popular\n",
        "clustering algorithms.\n",
        ">>Answer:\n",
        "Clustering is an unsupervised learning method used to group similar data points together based on their features, without using predefined labels.\n",
        "\n",
        "Three popular clustering algorithms:\n",
        "\n",
        "K-Means Clustering – Divides data into K groups by minimizing the distance from cluster centers.\n",
        "\n",
        "Hierarchical Clustering – Builds a tree-like structure (dendrogram) of clusters.\n",
        "\n",
        "DBSCAN (Density-Based Spatial Clustering of Applications with Noise) – Groups points based on density and detects outliers."
      ],
      "metadata": {
        "id": "FfS_ZFH8tZDH"
      }
    },
    {
      "cell_type": "markdown",
      "source": [
        "Question 4: Explain the concept of anomaly detection and its significance\n",
        ">>Answer:\n",
        "Anomaly Detection identifies data points that significantly differ from normal patterns in a dataset.\n",
        "\n",
        "Significance:\n",
        "\n",
        "Helps detect fraud, network intrusions, machine failures, and medical abnormalities.\n",
        "\n",
        "Improves system reliability and security.\n",
        "\n",
        "Useful for early warning systems and risk analysis."
      ],
      "metadata": {
        "id": "hyrmhKXDtfdz"
      }
    },
    {
      "cell_type": "markdown",
      "source": [
        "Question 5: List and briefly describe three types of anomaly detection techniques.\n",
        ">>Answer:\n",
        "\n",
        "Statistical Methods:\n",
        "Detect anomalies using statistical measures like mean, standard deviation, or probability distributions.\n",
        "\n",
        "Distance-Based Methods:\n",
        "Identify anomalies based on their distance from other data points (e.g., KNN-based).\n",
        "\n",
        "Machine Learning Methods:\n",
        "Use models like Isolation Forest, Autoencoders, or One-Class SVM to learn normal patterns and detect deviations."
      ],
      "metadata": {
        "id": "xxYOD08XtnuL"
      }
    },
    {
      "cell_type": "markdown",
      "source": [
        "Question 6: What is time series analysis? Mention two key components of time series\n",
        "data.\n",
        ">>Answer:\n",
        "Time Series Analysis studies data points collected over time to identify trends, patterns, and seasonal effects.\n",
        "\n",
        "Two key components:\n",
        "\n",
        "Trend: Long-term increase or decrease in data.\n",
        "\n",
        "Seasonality: Repeating patterns that occur at fixed time intervals (e.g., daily, monthly)."
      ],
      "metadata": {
        "id": "VQGJkWXAtvST"
      }
    },
    {
      "cell_type": "markdown",
      "source": [
        "Question 7: Describe the difference between seasonality and cyclic behavior in time\n",
        "series.\n",
        ">>\n",
        "| Aspect       | Seasonality                                             | Cyclic Behavior                                   |\n",
        "| ------------ | ------------------------------------------------------- | ------------------------------------------------- |\n",
        "| **Nature**   | Repeats at regular intervals.                           | Irregular fluctuations without fixed period.      |\n",
        "| **Duration** | Short-term and predictable (e.g., every month or year). | Long-term, depends on economic or natural cycles. |\n",
        "| **Example**  | Increased sales during Diwali.                          | Rise and fall in stock market trends.             |\n"
      ],
      "metadata": {
        "id": "rWu8MIuNt8RA"
      }
    },
    {
      "cell_type": "markdown",
      "source": [
        "Question 8: Write Python code to perform K-means clustering on a sample dataset.\n",
        "(Include your Python code and output in the code box below.)\n"
      ],
      "metadata": {
        "id": "5VLdaWZXuIdx"
      }
    },
    {
      "cell_type": "code",
      "source": [
        "# Import libraries\n",
        "from sklearn.cluster import KMeans\n",
        "from sklearn.datasets import make_blobs\n",
        "import matplotlib.pyplot as plt\n",
        "\n",
        "# Create a sample dataset\n",
        "X, y = make_blobs(n_samples=200, centers=3, random_state=42, cluster_std=1.0)\n",
        "\n",
        "# Perform K-Means clustering\n",
        "kmeans = KMeans(n_clusters=3, random_state=42)\n",
        "kmeans.fit(X)\n",
        "labels = kmeans.labels_\n",
        "\n",
        "# Plot the clusters\n",
        "plt.scatter(X[:, 0], X[:, 1], c=labels, cmap='rainbow')\n",
        "plt.scatter(kmeans.cluster_centers_[:, 0], kmeans.cluster_centers_[:, 1],\n",
        "            color='black', marker='x', s=100, label='Centroids')\n",
        "plt.title(\"K-Means Clustering\")\n",
        "plt.legend()\n",
        "plt.show()\n"
      ],
      "metadata": {
        "colab": {
          "base_uri": "https://localhost:8080/",
          "height": 452
        },
        "id": "GC6gEY7fuQ_X",
        "outputId": "ac34a921-0188-4d2f-d763-efc9aafdfe42"
      },
      "execution_count": 1,
      "outputs": [
        {
          "output_type": "display_data",
          "data": {
            "text/plain": [
              "<Figure size 640x480 with 1 Axes>"
            ],
            "image/png": "[encoded data removed]"
          },
          "metadata": {}
        }
      ]
    },
    {
      "cell_type": "markdown",
      "source": [
        "Question 9: What is inheritance in OOP? Provide a simple example in Python.\n",
        ">>Answer:\n",
        "Inheritance allows one class (child/subclass) to use properties and methods of another class (parent/superclass). It promotes code reusability and organization."
      ],
      "metadata": {
        "id": "I0L7vRMbuw1J"
      }
    },
    {
      "cell_type": "code",
      "source": [
        "# Parent class\n",
        "class Animal:\n",
        "    def speak(self):\n",
        "        print(\"Animal speaks\")\n",
        "\n",
        "# Child class inherits from Animal\n",
        "class Dog(Animal):\n",
        "    def bark(self):\n",
        "        print(\"Dog barks\")\n",
        "\n",
        "# Create an object\n",
        "d = Dog()\n",
        "d.speak()  # Inherited method\n",
        "d.bark()   # Child's own method"
      ],
      "metadata": {
        "colab": {
          "base_uri": "https://localhost:8080/"
        },
        "id": "tegkFUpBuxoK",
        "outputId": "5ca554b1-034d-47bf-e063-2608c59f3075"
      },
      "execution_count": 2,
      "outputs": [
        {
          "output_type": "stream",
          "name": "stdout",
          "text": [
            "Animal speaks\n",
            "Dog barks\n"
          ]
        }
      ]
    },
    {
      "cell_type": "markdown",
      "source": [
        "Question 10: How can time series analysis be used for anomaly detection?\n",
        ">>Answer:\n",
        "Time series analysis helps detect anomalies by examining deviations from expected patterns over time.\n",
        "\n",
        "Methods used:\n",
        "\n",
        "Statistical thresholds: Identify data points that fall outside normal confidence limits.\n",
        "\n",
        "Forecasting models: Use models like ARIMA or LSTM to predict future values; large prediction errors indicate anomalies.\n",
        "\n",
        "Seasonal Decomposition: Separate trend and seasonality, then detect outliers in the residual (irregular) component.\n",
        "\n",
        "Example:\n",
        "Detecting sudden spikes in network traffic or drops in sales beyond normal seasonal variation."
      ],
      "metadata": {
        "id": "OLDemr2GvAgi"
      }
    }
  ]
}